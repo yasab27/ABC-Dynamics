{
 "cells": [
  {
   "cell_type": "markdown",
   "id": "4ff836b8",
   "metadata": {},
   "source": [
    "# Light Anistropy\n",
    "\n",
    "In this notebook, we consider our \"tom-and-jerry\" system except now with light anistropy, i.e. we assume that there is only a light source projected in the center of the system and everywhere else, there is no illumination and thus no oxygen production. "
   ]
  },
  {
   "cell_type": "code",
   "execution_count": 1,
   "id": "896d4655",
   "metadata": {},
   "outputs": [],
   "source": [
    "import numpy as np\n",
    "from scipy.integrate import odeint, solve_ivp\n",
    "import matplotlib.pyplot as plt "
   ]
  },
  {
   "cell_type": "code",
   "execution_count": 2,
   "id": "d6d13254",
   "metadata": {},
   "outputs": [],
   "source": [
    "import scienceplots\n",
    "plt.style.use(['science','no-latex'])"
   ]
  },
  {
   "cell_type": "code",
   "execution_count": 3,
   "id": "2f9b304b",
   "metadata": {},
   "outputs": [],
   "source": [
    "from fipy import Variable, FaceVariable, CellVariable, Grid1D, TransientTerm, DiffusionTerm, UpwindConvectionTerm, \\\n",
    "ImplicitSourceTerm,ExplicitDiffusionTerm\n",
    "\n",
    "from fipy.tools import numerix"
   ]
  },
  {
   "cell_type": "markdown",
   "id": "f130a7b5",
   "metadata": {},
   "source": [
    "To review the model we are assuming that the oxygen dynamics are purely controlled by diffusion and consumption/production kinetics:\n",
    "\n",
    "$$\n",
    "\\dfrac{\\partial c}{\\partial t} = D_c \\nabla^2 c + k^+ a - k(c)^- b\n",
    "$$\n",
    "\n",
    "The oxygen consumption kinetics in this regime are given by Michealis Menton kinetics:\n",
    "\n",
    "$$\n",
    "k^-(c) = \\dfrac{k^-  c}{ K_c + c}\n",
    "$$\n",
    "\n",
    "For now we'll just use the approximation that oxygen consumption is unsaturated so this becomes the form:\n",
    "\n",
    "$$\n",
    "\\dfrac{\\partial c}{\\partial t} = D_c \\nabla^2 c + k^+ a - k^- b c\n",
    "$$\n",
    "\n",
    "Note that the oxygen production kinetics in turn vary as a function of the light illumination:\n",
    "\n",
    "$$\n",
    "k^+ = k^+(\\phi)\n",
    "$$\n",
    "\n",
    "Which we can can control via a light source in experiments. \n",
    "\n",
    "For bacteria, we model this using standard Keller Segel dynamics:\n",
    "\n",
    "$$\n",
    "\\dfrac{ \\partial b}{\\partial t} = D_b \\nabla^2 b + \\nabla( \\chi b \\nabla c)\n",
    "$$\n",
    "\n",
    "For the algae, we need to be a bit careful. We made the fundamental assumption that the diffusion rate of algae is dictated by the relative concentration of the individual bacteria, which we assume (as implied by experimental evidence) is given by a linear relationship:\n",
    "\n",
    "$$\n",
    "D(x) = \\beta b(x)\n",
    "$$\n",
    "\n",
    "Where $\\beta$ is a phenomenological constant. From this we need to generalize Fick's law as:\n",
    "\n",
    "$$\n",
    "J(x) = -\\nabla( D(x) b(x) )\n",
    "$$\n",
    "\n",
    "Which holds in the regime that the velocity and collision rates are both affected by the bacterial concentration. This gives us a formulation:\n",
    "\n",
    "$$\n",
    "\\dfrac{\\partial a}{\\partial t} = \\nabla \\left( \\, \\nabla( D(x) b(x) \\,) \\right)\n",
    "$$\n",
    "\n",
    "Which when expanded gives a Keller-Segel form:\n",
    "\n",
    "$$\n",
    "\\dfrac{\\partial a}{\\partial t} = (\\beta b) \\nabla^2 \\, a(x) + \\beta \\nabla( a \\nabla b )\n",
    "$$\n",
    "\n",
    "More generally due to volume exclusion among other effects we anticipate: \n",
    "\n",
    "$$\n",
    "\\dfrac{\\partial a}{\\partial t} = (\\beta b) \\nabla^2 \\, a(x) + \\gamma \\nabla( a \\nabla b )\n",
    "$$\n",
    "\n"
   ]
  },
  {
   "cell_type": "markdown",
   "id": "cd35c67d",
   "metadata": {},
   "source": [
    "We will begin our simulation by defining initial conditions and a grid for numerics, leveraging simple finite volume method provided by FiPy. "
   ]
  },
  {
   "cell_type": "code",
   "execution_count": 4,
   "id": "dfd300c4",
   "metadata": {},
   "outputs": [
    {
     "name": "stdout",
     "output_type": "stream",
     "text": [
      "SIMULATION PARAMETERS:\n",
      "dx size:  0.01\n",
      "Diffusion CFL: 5e-05\n",
      "Time step: 0.01\n",
      "Integration Time: 5.0\n",
      "Number Iterations: 500\n"
     ]
    }
   ],
   "source": [
    "# Number of cells\n",
    "L = 1\n",
    "nx = 100\n",
    "\n",
    "# Length of domain unit\n",
    "dx = L/nx\n",
    "\n",
    "# Construct mesh. \n",
    "m = Grid1D(nx=nx, dx=dx)\n",
    "\n",
    "# Define the time step\n",
    "T = 5\n",
    "D = 1\n",
    "\n",
    "# Compute the time step duration using the CFL criterion, also compute the CFL criterion to get a sense of scale for the system. \n",
    "timeStepDuration = 0.01\n",
    "steps = int(T/timeStepDuration)\n",
    "\n",
    "print(\"SIMULATION PARAMETERS:\")\n",
    "print(\"dx size: \", dx)\n",
    "print(\"Diffusion CFL:\", dx**2 / (2 * D))\n",
    "print(\"Time step:\", timeStepDuration)\n",
    "print(\"Integration Time:\", timeStepDuration*steps)\n",
    "print(\"Number Iterations:\", steps)"
   ]
  },
  {
   "cell_type": "markdown",
   "id": "324e2a52",
   "metadata": {},
   "source": [
    "Let's now define the initial conditions for the system, we will for now assume the system is homogeneously illuminated everywhere and the system starts with a homogeneous bacteria concentration with a single spot of algae in the center of the system. "
   ]
  },
  {
   "cell_type": "code",
   "execution_count": 5,
   "id": "d59c758b",
   "metadata": {},
   "outputs": [
    {
     "data": {
      "image/png": "[encoded data removed]",
      "text/plain": [
       "<Figure size 360x360 with 1 Axes>"
      ]
     },
     "metadata": {
      "needs_background": "light"
     },
     "output_type": "display_data"
    }
   ],
   "source": [
    "c = CellVariable(name=\"oxygen\",mesh=m,value= 0.0)\n",
    "a = CellVariable(name =\"algae\", mesh = m, value = 1.0)\n",
    "b = CellVariable(name = \"bacteria\", mesh = m, value = 1.0)\n",
    "\n",
    "\n",
    "# Generate an initial Gaussian profile for the algae. \n",
    "wf = 5\n",
    "\n",
    "mu = L/2\n",
    "sigma = L/15\n",
    "mask = 2.0*np.exp(-(m.x-mu)**2/sigma**2)\n",
    "a[(m.x > L/2 - L/(2*wf)) & (m.x < L/2 + L/(2*wf))] = 1.0\n",
    "a.setValue(mask ) \n",
    "\n",
    "# Now also create a light variable 'phi' which will vary in space. \n",
    "phi = CellVariable(name = \"light\", mesh = m, value = 0.0)\n",
    "\n",
    "lb = 0.35; ub = 0.65\n",
    "phi[ (m.x.value > lb) & (m.x.value < ub) ] = 1.0\n",
    "    \n",
    "# Plot the initial profiles \n",
    "plt.figure(figsize = (5,5))\n",
    "plt.title(\"Initial Profiles\")\n",
    "plt.ylim(0,3.0)\n",
    "\n",
    "plt.plot(m.x.value, phi.value, color = \"Gold\", label = \"Light\", lw = 2)\n",
    "plt.fill_betweenx( np.linspace(0,4,100), lb, ub, facecolor='yellow', alpha=0.5, )\n",
    "\n",
    "plt.plot(m.x.value, np.array(a), color = \"green\", label = \"Algae\", lw = 2)\n",
    "plt.plot(m.x.value, np.array(c), color = \"red\", label = \"Oxygen\" , lw = 2)\n",
    "plt.plot(m.x.value, np.array(b), color = \"blue\", label = \"Bacteria\" , lw =2 )\n",
    "plt.legend()\n",
    "plt.show()"
   ]
  },
  {
   "cell_type": "markdown",
   "id": "f170e51e",
   "metadata": {},
   "source": [
    "### Defining Equations\n",
    "\n",
    "We will now set the equations for our system, fixing parameters here just for convenience. \n",
    "\n",
    "$$\n",
    "\\begin{aligned}\n",
    "& \\frac{\\partial c}{\\partial t}=D_c \\nabla^2 c+k^{+}(\\phi) a-k^{-} b c \\\\\n",
    "& \\frac{\\partial b}{\\partial t}=D_b \\nabla^2 b-r \\nabla(b \\nabla c) \\\\\n",
    "& \\frac{\\partial a}{\\partial t}=(\\beta b) \\nabla^2 a+\\gamma \\nabla(a \\nabla b)\n",
    "\\end{aligned}\n",
    "$$\n",
    "\n",
    "Estimating $\\beta$ from experimental data will be challenging, but here we'll just assume when $b = 1$, the diffusion constant will be $D_a = \\beta(1) = 0.1$. We can rescale this as needed based on experiments. **Mess around with the system parameters below to study how the dynamics bifurcate.**"
   ]
  },
  {
   "cell_type": "code",
   "execution_count": 6,
   "id": "e57e9cbc",
   "metadata": {},
   "outputs": [],
   "source": [
    "# Define the diffusion constants\n",
    "D_c = 1\n",
    "D_b = 0.1 \n",
    "beta = 1.0\n",
    "\n",
    "# Define the kinetic parameters\n",
    "k_plus = 10.0\n",
    "k_minus = 0.0\n",
    "\n",
    "# Define the advective parameters\n",
    "r = 3.0\n",
    "gamma = 1.0"
   ]
  },
  {
   "cell_type": "markdown",
   "id": "e0c9a5d3",
   "metadata": {},
   "source": [
    "Now define the actual equations:"
   ]
  },
  {
   "cell_type": "code",
   "execution_count": 7,
   "id": "c65c7445",
   "metadata": {},
   "outputs": [],
   "source": [
    "# Oxygen term\n",
    "oxy_prod = k_plus*phi\n",
    "eqX = TransientTerm(var = c) == DiffusionTerm(coeff= D_c, var = c) + ImplicitSourceTerm(var = a, coeff = oxy_prod) \\\n",
    "    - ImplicitSourceTerm(coeff = k_minus*c, var = b)\n",
    "\n",
    "# Bacteria term\n",
    "taxis_coeff = r*c.grad\n",
    "eqZ = TransientTerm(var = b) == DiffusionTerm(coeff = D_b, var = b)  - UpwindConvectionTerm(coeff=taxis_coeff, var = b)\n",
    "\n",
    "# Algae term\n",
    "D_ani = beta*b\n",
    "dispersal_coeff = gamma*b.grad\n",
    "eqY = TransientTerm(var = a) == DiffusionTerm(coeff = D_ani, var = a) + UpwindConvectionTerm(coeff = dispersal_coeff, var = a)\n",
    "\n",
    "# Combine into a single equation\n",
    "eqN = eqX & eqY & eqZ"
   ]
  },
  {
   "cell_type": "markdown",
   "id": "af436133",
   "metadata": {},
   "source": [
    "We now simulate our system:"
   ]
  },
  {
   "cell_type": "code",
   "execution_count": 8,
   "id": "79896f12",
   "metadata": {},
   "outputs": [
    {
     "name": "stderr",
     "output_type": "stream",
     "text": [
      "100%|██████████| 500/500 [00:13<00:00, 38.18it/s]\n"
     ]
    }
   ],
   "source": [
    "from tqdm import trange, tqdm\n",
    "\n",
    "from builtins import range\n",
    "\n",
    "# Create arrays to store the transients dynamics for algae, bacteria, and oxygen. \n",
    "a_tt = []\n",
    "b_tt = []\n",
    "c_tt = []\n",
    "\n",
    "t = 0.0\n",
    "for step in trange((steps)):\n",
    "    t += timeStepDuration\n",
    "    t = np.around(t,1)\n",
    "    eqN.solve(dt=timeStepDuration)\n",
    "    \n",
    "    # Save the simulation values only every 10 time steps. \n",
    "    if t % 10.0 == 0.0:\n",
    "        a_tt.append(a.value.copy())\n",
    "        b_tt.append(b.value.copy())\n",
    "        c_tt.append(c.value.copy())"
   ]
  },
  {
   "cell_type": "markdown",
   "id": "d3a25869",
   "metadata": {},
   "source": [
    "### Plotting the Simulation\n",
    "\n",
    "We analyze the results by plotting a video of the solution. The code below just carefully generates a lot of subplots visualizing different aspects of the system dynamics and plots them all in one large video, the specifics of how it worse are both uninteresting and verbose: "
   ]
  },
  {
   "cell_type": "code",
   "execution_count": 10,
   "id": "25a3908b",
   "metadata": {},
   "outputs": [
    {
     "ename": "KeyboardInterrupt",
     "evalue": "",
     "output_type": "error",
     "traceback": [
      "\u001b[0;31m---------------------------------------------------------------------------\u001b[0m",
      "\u001b[0;31mAttributeError\u001b[0m                            Traceback (most recent call last)",
      "\u001b[0;32m/opt/anaconda3/lib/python3.9/site-packages/PIL/ImageFile.py\u001b[0m in \u001b[0;36m_save\u001b[0;34m(im, fp, tile, bufsize)\u001b[0m\n\u001b[1;32m    503\u001b[0m     \u001b[0;32mtry\u001b[0m\u001b[0;34m:\u001b[0m\u001b[0;34m\u001b[0m\u001b[0;34m\u001b[0m\u001b[0m\n\u001b[0;32m--> 504\u001b[0;31m         \u001b[0mfh\u001b[0m \u001b[0;34m=\u001b[0m \u001b[0mfp\u001b[0m\u001b[0;34m.\u001b[0m\u001b[0mfileno\u001b[0m\u001b[0;34m(\u001b[0m\u001b[0;34m)\u001b[0m\u001b[0;34m\u001b[0m\u001b[0;34m\u001b[0m\u001b[0m\n\u001b[0m\u001b[1;32m    505\u001b[0m         \u001b[0mfp\u001b[0m\u001b[0;34m.\u001b[0m\u001b[0mflush\u001b[0m\u001b[0;34m(\u001b[0m\u001b[0;34m)\u001b[0m\u001b[0;34m\u001b[0m\u001b[0;34m\u001b[0m\u001b[0m\n",
      "\u001b[0;31mAttributeError\u001b[0m: '_idat' object has no attribute 'fileno'",
      "\nDuring handling of the above exception, another exception occurred:\n",
      "\u001b[0;31mKeyboardInterrupt\u001b[0m                         Traceback (most recent call last)",
      "\u001b[0;32m/var/folders/cy/286rxlsj5ksbn_qd610z9n9c0000gn/T/ipykernel_11258/3464861669.py\u001b[0m in \u001b[0;36m<module>\u001b[0;34m\u001b[0m\n\u001b[1;32m     84\u001b[0m     \u001b[0max4\u001b[0m\u001b[0;34m.\u001b[0m\u001b[0mset_title\u001b[0m\u001b[0;34m(\u001b[0m\u001b[0;34m\"Mass in Lit Region\"\u001b[0m\u001b[0;34m)\u001b[0m\u001b[0;34m\u001b[0m\u001b[0;34m\u001b[0m\u001b[0m\n\u001b[1;32m     85\u001b[0m \u001b[0;34m\u001b[0m\u001b[0m\n\u001b[0;32m---> 86\u001b[0;31m     \u001b[0mplt\u001b[0m\u001b[0;34m.\u001b[0m\u001b[0mshow\u001b[0m\u001b[0;34m(\u001b[0m\u001b[0;34m)\u001b[0m\u001b[0;34m\u001b[0m\u001b[0;34m\u001b[0m\u001b[0m\n\u001b[0m\u001b[1;32m     87\u001b[0m \u001b[0;34m\u001b[0m\u001b[0m\n\u001b[1;32m     88\u001b[0m     \u001b[0;32mif\u001b[0m \u001b[0msave_gif\u001b[0m\u001b[0;34m:\u001b[0m\u001b[0;34m\u001b[0m\u001b[0;34m\u001b[0m\u001b[0m\n",
      "\u001b[0;32m/opt/anaconda3/lib/python3.9/site-packages/matplotlib/pyplot.py\u001b[0m in \u001b[0;36mshow\u001b[0;34m(*args, **kwargs)\u001b[0m\n\u001b[1;32m    376\u001b[0m     \"\"\"\n\u001b[1;32m    377\u001b[0m     \u001b[0m_warn_if_gui_out_of_main_thread\u001b[0m\u001b[0;34m(\u001b[0m\u001b[0;34m)\u001b[0m\u001b[0;34m\u001b[0m\u001b[0;34m\u001b[0m\u001b[0m\n\u001b[0;32m--> 378\u001b[0;31m     \u001b[0;32mreturn\u001b[0m \u001b[0m_backend_mod\u001b[0m\u001b[0;34m.\u001b[0m\u001b[0mshow\u001b[0m\u001b[0;34m(\u001b[0m\u001b[0;34m*\u001b[0m\u001b[0margs\u001b[0m\u001b[0;34m,\u001b[0m \u001b[0;34m**\u001b[0m\u001b[0mkwargs\u001b[0m\u001b[0;34m)\u001b[0m\u001b[0;34m\u001b[0m\u001b[0;34m\u001b[0m\u001b[0m\n\u001b[0m\u001b[1;32m    379\u001b[0m \u001b[0;34m\u001b[0m\u001b[0m\n\u001b[1;32m    380\u001b[0m \u001b[0;34m\u001b[0m\u001b[0m\n",
      "\u001b[0;32m/opt/anaconda3/lib/python3.9/site-packages/matplotlib_inline/backend_inline.py\u001b[0m in \u001b[0;36mshow\u001b[0;34m(close, block)\u001b[0m\n\u001b[1;32m     39\u001b[0m     \u001b[0;32mtry\u001b[0m\u001b[0;34m:\u001b[0m\u001b[0;34m\u001b[0m\u001b[0;34m\u001b[0m\u001b[0m\n\u001b[1;32m     40\u001b[0m         \u001b[0;32mfor\u001b[0m \u001b[0mfigure_manager\u001b[0m \u001b[0;32min\u001b[0m \u001b[0mGcf\u001b[0m\u001b[0;34m.\u001b[0m\u001b[0mget_all_fig_managers\u001b[0m\u001b[0;34m(\u001b[0m\u001b[0;34m)\u001b[0m\u001b[0;34m:\u001b[0m\u001b[0;34m\u001b[0m\u001b[0;34m\u001b[0m\u001b[0m\n\u001b[0;32m---> 41\u001b[0;31m             display(\n\u001b[0m\u001b[1;32m     42\u001b[0m                 \u001b[0mfigure_manager\u001b[0m\u001b[0;34m.\u001b[0m\u001b[0mcanvas\u001b[0m\u001b[0;34m.\u001b[0m\u001b[0mfigure\u001b[0m\u001b[0;34m,\u001b[0m\u001b[0;34m\u001b[0m\u001b[0;34m\u001b[0m\u001b[0m\n\u001b[1;32m     43\u001b[0m                 \u001b[0mmetadata\u001b[0m\u001b[0;34m=\u001b[0m\u001b[0m_fetch_figure_metadata\u001b[0m\u001b[0;34m(\u001b[0m\u001b[0mfigure_manager\u001b[0m\u001b[0;34m.\u001b[0m\u001b[0mcanvas\u001b[0m\u001b[0;34m.\u001b[0m\u001b[0mfigure\u001b[0m\u001b[0;34m)\u001b[0m\u001b[0;34m\u001b[0m\u001b[0;34m\u001b[0m\u001b[0m\n",
      "\u001b[0;32m/opt/anaconda3/lib/python3.9/site-packages/IPython/core/display.py\u001b[0m in \u001b[0;36mdisplay\u001b[0;34m(include, exclude, metadata, transient, display_id, *objs, **kwargs)\u001b[0m\n\u001b[1;32m    318\u001b[0m             \u001b[0mpublish_display_data\u001b[0m\u001b[0;34m(\u001b[0m\u001b[0mdata\u001b[0m\u001b[0;34m=\u001b[0m\u001b[0mobj\u001b[0m\u001b[0;34m,\u001b[0m \u001b[0mmetadata\u001b[0m\u001b[0;34m=\u001b[0m\u001b[0mmetadata\u001b[0m\u001b[0;34m,\u001b[0m \u001b[0;34m**\u001b[0m\u001b[0mkwargs\u001b[0m\u001b[0;34m)\u001b[0m\u001b[0;34m\u001b[0m\u001b[0;34m\u001b[0m\u001b[0m\n\u001b[1;32m    319\u001b[0m         \u001b[0;32melse\u001b[0m\u001b[0;34m:\u001b[0m\u001b[0;34m\u001b[0m\u001b[0;34m\u001b[0m\u001b[0m\n\u001b[0;32m--> 320\u001b[0;31m             \u001b[0mformat_dict\u001b[0m\u001b[0;34m,\u001b[0m \u001b[0mmd_dict\u001b[0m \u001b[0;34m=\u001b[0m \u001b[0mformat\u001b[0m\u001b[0;34m(\u001b[0m\u001b[0mobj\u001b[0m\u001b[0;34m,\u001b[0m \u001b[0minclude\u001b[0m\u001b[0;34m=\u001b[0m\u001b[0minclude\u001b[0m\u001b[0;34m,\u001b[0m \u001b[0mexclude\u001b[0m\u001b[0;34m=\u001b[0m\u001b[0mexclude\u001b[0m\u001b[0;34m)\u001b[0m\u001b[0;34m\u001b[0m\u001b[0;34m\u001b[0m\u001b[0m\n\u001b[0m\u001b[1;32m    321\u001b[0m             \u001b[0;32mif\u001b[0m \u001b[0;32mnot\u001b[0m \u001b[0mformat_dict\u001b[0m\u001b[0;34m:\u001b[0m\u001b[0;34m\u001b[0m\u001b[0;34m\u001b[0m\u001b[0m\n\u001b[1;32m    322\u001b[0m                 \u001b[0;31m# nothing to display (e.g. _ipython_display_ took over)\u001b[0m\u001b[0;34m\u001b[0m\u001b[0;34m\u001b[0m\u001b[0m\n",
      "\u001b[0;32m/opt/anaconda3/lib/python3.9/site-packages/IPython/core/formatters.py\u001b[0m in \u001b[0;36mformat\u001b[0;34m(self, obj, include, exclude)\u001b[0m\n\u001b[1;32m    178\u001b[0m             \u001b[0mmd\u001b[0m \u001b[0;34m=\u001b[0m \u001b[0;32mNone\u001b[0m\u001b[0;34m\u001b[0m\u001b[0;34m\u001b[0m\u001b[0m\n\u001b[1;32m    179\u001b[0m             \u001b[0;32mtry\u001b[0m\u001b[0;34m:\u001b[0m\u001b[0;34m\u001b[0m\u001b[0;34m\u001b[0m\u001b[0m\n\u001b[0;32m--> 180\u001b[0;31m                 \u001b[0mdata\u001b[0m \u001b[0;34m=\u001b[0m \u001b[0mformatter\u001b[0m\u001b[0;34m(\u001b[0m\u001b[0mobj\u001b[0m\u001b[0;34m)\u001b[0m\u001b[0;34m\u001b[0m\u001b[0;34m\u001b[0m\u001b[0m\n\u001b[0m\u001b[1;32m    181\u001b[0m             \u001b[0;32mexcept\u001b[0m\u001b[0;34m:\u001b[0m\u001b[0;34m\u001b[0m\u001b[0;34m\u001b[0m\u001b[0m\n\u001b[1;32m    182\u001b[0m                 \u001b[0;31m# FIXME: log the exception\u001b[0m\u001b[0;34m\u001b[0m\u001b[0;34m\u001b[0m\u001b[0m\n",
      "\u001b[0;32m/opt/anaconda3/lib/python3.9/site-packages/decorator.py\u001b[0m in \u001b[0;36mfun\u001b[0;34m(*args, **kw)\u001b[0m\n\u001b[1;32m    230\u001b[0m             \u001b[0;32mif\u001b[0m \u001b[0;32mnot\u001b[0m \u001b[0mkwsyntax\u001b[0m\u001b[0;34m:\u001b[0m\u001b[0;34m\u001b[0m\u001b[0;34m\u001b[0m\u001b[0m\n\u001b[1;32m    231\u001b[0m                 \u001b[0margs\u001b[0m\u001b[0;34m,\u001b[0m \u001b[0mkw\u001b[0m \u001b[0;34m=\u001b[0m \u001b[0mfix\u001b[0m\u001b[0;34m(\u001b[0m\u001b[0margs\u001b[0m\u001b[0;34m,\u001b[0m \u001b[0mkw\u001b[0m\u001b[0;34m,\u001b[0m \u001b[0msig\u001b[0m\u001b[0;34m)\u001b[0m\u001b[0;34m\u001b[0m\u001b[0;34m\u001b[0m\u001b[0m\n\u001b[0;32m--> 232\u001b[0;31m             \u001b[0;32mreturn\u001b[0m \u001b[0mcaller\u001b[0m\u001b[0;34m(\u001b[0m\u001b[0mfunc\u001b[0m\u001b[0;34m,\u001b[0m \u001b[0;34m*\u001b[0m\u001b[0;34m(\u001b[0m\u001b[0mextras\u001b[0m \u001b[0;34m+\u001b[0m \u001b[0margs\u001b[0m\u001b[0;34m)\u001b[0m\u001b[0;34m,\u001b[0m \u001b[0;34m**\u001b[0m\u001b[0mkw\u001b[0m\u001b[0;34m)\u001b[0m\u001b[0;34m\u001b[0m\u001b[0;34m\u001b[0m\u001b[0m\n\u001b[0m\u001b[1;32m    233\u001b[0m     \u001b[0mfun\u001b[0m\u001b[0;34m.\u001b[0m\u001b[0m__name__\u001b[0m \u001b[0;34m=\u001b[0m \u001b[0mfunc\u001b[0m\u001b[0;34m.\u001b[0m\u001b[0m__name__\u001b[0m\u001b[0;34m\u001b[0m\u001b[0;34m\u001b[0m\u001b[0m\n\u001b[1;32m    234\u001b[0m     \u001b[0mfun\u001b[0m\u001b[0;34m.\u001b[0m\u001b[0m__doc__\u001b[0m \u001b[0;34m=\u001b[0m \u001b[0mfunc\u001b[0m\u001b[0;34m.\u001b[0m\u001b[0m__doc__\u001b[0m\u001b[0;34m\u001b[0m\u001b[0;34m\u001b[0m\u001b[0m\n",
      "\u001b[0;32m/opt/anaconda3/lib/python3.9/site-packages/IPython/core/formatters.py\u001b[0m in \u001b[0;36mcatch_format_error\u001b[0;34m(method, self, *args, **kwargs)\u001b[0m\n\u001b[1;32m    222\u001b[0m     \u001b[0;34m\"\"\"show traceback on failed format call\"\"\"\u001b[0m\u001b[0;34m\u001b[0m\u001b[0;34m\u001b[0m\u001b[0m\n\u001b[1;32m    223\u001b[0m     \u001b[0;32mtry\u001b[0m\u001b[0;34m:\u001b[0m\u001b[0;34m\u001b[0m\u001b[0;34m\u001b[0m\u001b[0m\n\u001b[0;32m--> 224\u001b[0;31m         \u001b[0mr\u001b[0m \u001b[0;34m=\u001b[0m \u001b[0mmethod\u001b[0m\u001b[0;34m(\u001b[0m\u001b[0mself\u001b[0m\u001b[0;34m,\u001b[0m \u001b[0;34m*\u001b[0m\u001b[0margs\u001b[0m\u001b[0;34m,\u001b[0m \u001b[0;34m**\u001b[0m\u001b[0mkwargs\u001b[0m\u001b[0;34m)\u001b[0m\u001b[0;34m\u001b[0m\u001b[0;34m\u001b[0m\u001b[0m\n\u001b[0m\u001b[1;32m    225\u001b[0m     \u001b[0;32mexcept\u001b[0m \u001b[0mNotImplementedError\u001b[0m\u001b[0;34m:\u001b[0m\u001b[0;34m\u001b[0m\u001b[0;34m\u001b[0m\u001b[0m\n\u001b[1;32m    226\u001b[0m         \u001b[0;31m# don't warn on NotImplementedErrors\u001b[0m\u001b[0;34m\u001b[0m\u001b[0;34m\u001b[0m\u001b[0m\n",
      "\u001b[0;32m/opt/anaconda3/lib/python3.9/site-packages/IPython/core/formatters.py\u001b[0m in \u001b[0;36m__call__\u001b[0;34m(self, obj)\u001b[0m\n\u001b[1;32m    339\u001b[0m                 \u001b[0;32mpass\u001b[0m\u001b[0;34m\u001b[0m\u001b[0;34m\u001b[0m\u001b[0m\n\u001b[1;32m    340\u001b[0m             \u001b[0;32melse\u001b[0m\u001b[0;34m:\u001b[0m\u001b[0;34m\u001b[0m\u001b[0;34m\u001b[0m\u001b[0m\n\u001b[0;32m--> 341\u001b[0;31m                 \u001b[0;32mreturn\u001b[0m \u001b[0mprinter\u001b[0m\u001b[0;34m(\u001b[0m\u001b[0mobj\u001b[0m\u001b[0;34m)\u001b[0m\u001b[0;34m\u001b[0m\u001b[0;34m\u001b[0m\u001b[0m\n\u001b[0m\u001b[1;32m    342\u001b[0m             \u001b[0;31m# Finally look for special method names\u001b[0m\u001b[0;34m\u001b[0m\u001b[0;34m\u001b[0m\u001b[0m\n\u001b[1;32m    343\u001b[0m             \u001b[0mmethod\u001b[0m \u001b[0;34m=\u001b[0m \u001b[0mget_real_method\u001b[0m\u001b[0;34m(\u001b[0m\u001b[0mobj\u001b[0m\u001b[0;34m,\u001b[0m \u001b[0mself\u001b[0m\u001b[0;34m.\u001b[0m\u001b[0mprint_method\u001b[0m\u001b[0;34m)\u001b[0m\u001b[0;34m\u001b[0m\u001b[0;34m\u001b[0m\u001b[0m\n",
      "\u001b[0;32m/opt/anaconda3/lib/python3.9/site-packages/IPython/core/pylabtools.py\u001b[0m in \u001b[0;36mprint_figure\u001b[0;34m(fig, fmt, bbox_inches, base64, **kwargs)\u001b[0m\n\u001b[1;32m    149\u001b[0m         \u001b[0mFigureCanvasBase\u001b[0m\u001b[0;34m(\u001b[0m\u001b[0mfig\u001b[0m\u001b[0;34m)\u001b[0m\u001b[0;34m\u001b[0m\u001b[0;34m\u001b[0m\u001b[0m\n\u001b[1;32m    150\u001b[0m \u001b[0;34m\u001b[0m\u001b[0m\n\u001b[0;32m--> 151\u001b[0;31m     \u001b[0mfig\u001b[0m\u001b[0;34m.\u001b[0m\u001b[0mcanvas\u001b[0m\u001b[0;34m.\u001b[0m\u001b[0mprint_figure\u001b[0m\u001b[0;34m(\u001b[0m\u001b[0mbytes_io\u001b[0m\u001b[0;34m,\u001b[0m \u001b[0;34m**\u001b[0m\u001b[0mkw\u001b[0m\u001b[0;34m)\u001b[0m\u001b[0;34m\u001b[0m\u001b[0;34m\u001b[0m\u001b[0m\n\u001b[0m\u001b[1;32m    152\u001b[0m     \u001b[0mdata\u001b[0m \u001b[0;34m=\u001b[0m \u001b[0mbytes_io\u001b[0m\u001b[0;34m.\u001b[0m\u001b[0mgetvalue\u001b[0m\u001b[0;34m(\u001b[0m\u001b[0;34m)\u001b[0m\u001b[0;34m\u001b[0m\u001b[0;34m\u001b[0m\u001b[0m\n\u001b[1;32m    153\u001b[0m     \u001b[0;32mif\u001b[0m \u001b[0mfmt\u001b[0m \u001b[0;34m==\u001b[0m \u001b[0;34m'svg'\u001b[0m\u001b[0;34m:\u001b[0m\u001b[0;34m\u001b[0m\u001b[0;34m\u001b[0m\u001b[0m\n",
      "\u001b[0;32m/opt/anaconda3/lib/python3.9/site-packages/matplotlib/backend_bases.py\u001b[0m in \u001b[0;36mprint_figure\u001b[0;34m(self, filename, dpi, facecolor, edgecolor, orientation, format, bbox_inches, pad_inches, bbox_extra_artists, backend, **kwargs)\u001b[0m\n\u001b[1;32m   2253\u001b[0m                 \u001b[0;31m# force the figure dpi to 72), so we need to set it again here.\u001b[0m\u001b[0;34m\u001b[0m\u001b[0;34m\u001b[0m\u001b[0m\n\u001b[1;32m   2254\u001b[0m                 \u001b[0;32mwith\u001b[0m \u001b[0mcbook\u001b[0m\u001b[0;34m.\u001b[0m\u001b[0m_setattr_cm\u001b[0m\u001b[0;34m(\u001b[0m\u001b[0mself\u001b[0m\u001b[0;34m.\u001b[0m\u001b[0mfigure\u001b[0m\u001b[0;34m,\u001b[0m \u001b[0mdpi\u001b[0m\u001b[0;34m=\u001b[0m\u001b[0mdpi\u001b[0m\u001b[0;34m)\u001b[0m\u001b[0;34m:\u001b[0m\u001b[0;34m\u001b[0m\u001b[0;34m\u001b[0m\u001b[0m\n\u001b[0;32m-> 2255\u001b[0;31m                     result = print_method(\n\u001b[0m\u001b[1;32m   2256\u001b[0m                         \u001b[0mfilename\u001b[0m\u001b[0;34m,\u001b[0m\u001b[0;34m\u001b[0m\u001b[0;34m\u001b[0m\u001b[0m\n\u001b[1;32m   2257\u001b[0m                         \u001b[0mfacecolor\u001b[0m\u001b[0;34m=\u001b[0m\u001b[0mfacecolor\u001b[0m\u001b[0;34m,\u001b[0m\u001b[0;34m\u001b[0m\u001b[0;34m\u001b[0m\u001b[0m\n",
      "\u001b[0;32m/opt/anaconda3/lib/python3.9/site-packages/matplotlib/backend_bases.py\u001b[0m in \u001b[0;36mwrapper\u001b[0;34m(*args, **kwargs)\u001b[0m\n\u001b[1;32m   1667\u001b[0m             \u001b[0mkwargs\u001b[0m\u001b[0;34m.\u001b[0m\u001b[0mpop\u001b[0m\u001b[0;34m(\u001b[0m\u001b[0marg\u001b[0m\u001b[0;34m)\u001b[0m\u001b[0;34m\u001b[0m\u001b[0;34m\u001b[0m\u001b[0m\n\u001b[1;32m   1668\u001b[0m \u001b[0;34m\u001b[0m\u001b[0m\n\u001b[0;32m-> 1669\u001b[0;31m         \u001b[0;32mreturn\u001b[0m \u001b[0mfunc\u001b[0m\u001b[0;34m(\u001b[0m\u001b[0;34m*\u001b[0m\u001b[0margs\u001b[0m\u001b[0;34m,\u001b[0m \u001b[0;34m**\u001b[0m\u001b[0mkwargs\u001b[0m\u001b[0;34m)\u001b[0m\u001b[0;34m\u001b[0m\u001b[0;34m\u001b[0m\u001b[0m\n\u001b[0m\u001b[1;32m   1670\u001b[0m \u001b[0;34m\u001b[0m\u001b[0m\n\u001b[1;32m   1671\u001b[0m     \u001b[0;32mreturn\u001b[0m \u001b[0mwrapper\u001b[0m\u001b[0;34m\u001b[0m\u001b[0;34m\u001b[0m\u001b[0m\n",
      "\u001b[0;32m/opt/anaconda3/lib/python3.9/site-packages/matplotlib/backends/backend_agg.py\u001b[0m in \u001b[0;36mprint_png\u001b[0;34m(self, filename_or_obj, metadata, pil_kwargs, *args)\u001b[0m\n\u001b[1;32m    507\u001b[0m         \"\"\"\n\u001b[1;32m    508\u001b[0m         \u001b[0mFigureCanvasAgg\u001b[0m\u001b[0;34m.\u001b[0m\u001b[0mdraw\u001b[0m\u001b[0;34m(\u001b[0m\u001b[0mself\u001b[0m\u001b[0;34m)\u001b[0m\u001b[0;34m\u001b[0m\u001b[0;34m\u001b[0m\u001b[0m\n\u001b[0;32m--> 509\u001b[0;31m         mpl.image.imsave(\n\u001b[0m\u001b[1;32m    510\u001b[0m             \u001b[0mfilename_or_obj\u001b[0m\u001b[0;34m,\u001b[0m \u001b[0mself\u001b[0m\u001b[0;34m.\u001b[0m\u001b[0mbuffer_rgba\u001b[0m\u001b[0;34m(\u001b[0m\u001b[0;34m)\u001b[0m\u001b[0;34m,\u001b[0m \u001b[0mformat\u001b[0m\u001b[0;34m=\u001b[0m\u001b[0;34m\"png\"\u001b[0m\u001b[0;34m,\u001b[0m \u001b[0morigin\u001b[0m\u001b[0;34m=\u001b[0m\u001b[0;34m\"upper\"\u001b[0m\u001b[0;34m,\u001b[0m\u001b[0;34m\u001b[0m\u001b[0;34m\u001b[0m\u001b[0m\n\u001b[1;32m    511\u001b[0m             dpi=self.figure.dpi, metadata=metadata, pil_kwargs=pil_kwargs)\n",
      "\u001b[0;32m/opt/anaconda3/lib/python3.9/site-packages/matplotlib/image.py\u001b[0m in \u001b[0;36mimsave\u001b[0;34m(fname, arr, vmin, vmax, cmap, format, origin, dpi, metadata, pil_kwargs)\u001b[0m\n\u001b[1;32m   1614\u001b[0m         \u001b[0mpil_kwargs\u001b[0m\u001b[0;34m.\u001b[0m\u001b[0msetdefault\u001b[0m\u001b[0;34m(\u001b[0m\u001b[0;34m\"format\"\u001b[0m\u001b[0;34m,\u001b[0m \u001b[0mformat\u001b[0m\u001b[0;34m)\u001b[0m\u001b[0;34m\u001b[0m\u001b[0;34m\u001b[0m\u001b[0m\n\u001b[1;32m   1615\u001b[0m         \u001b[0mpil_kwargs\u001b[0m\u001b[0;34m.\u001b[0m\u001b[0msetdefault\u001b[0m\u001b[0;34m(\u001b[0m\u001b[0;34m\"dpi\"\u001b[0m\u001b[0;34m,\u001b[0m \u001b[0;34m(\u001b[0m\u001b[0mdpi\u001b[0m\u001b[0;34m,\u001b[0m \u001b[0mdpi\u001b[0m\u001b[0;34m)\u001b[0m\u001b[0;34m)\u001b[0m\u001b[0;34m\u001b[0m\u001b[0;34m\u001b[0m\u001b[0m\n\u001b[0;32m-> 1616\u001b[0;31m         \u001b[0mimage\u001b[0m\u001b[0;34m.\u001b[0m\u001b[0msave\u001b[0m\u001b[0;34m(\u001b[0m\u001b[0mfname\u001b[0m\u001b[0;34m,\u001b[0m \u001b[0;34m**\u001b[0m\u001b[0mpil_kwargs\u001b[0m\u001b[0;34m)\u001b[0m\u001b[0;34m\u001b[0m\u001b[0;34m\u001b[0m\u001b[0m\n\u001b[0m\u001b[1;32m   1617\u001b[0m \u001b[0;34m\u001b[0m\u001b[0m\n\u001b[1;32m   1618\u001b[0m \u001b[0;34m\u001b[0m\u001b[0m\n",
      "\u001b[0;32m/opt/anaconda3/lib/python3.9/site-packages/PIL/Image.py\u001b[0m in \u001b[0;36msave\u001b[0;34m(self, fp, format, **params)\u001b[0m\n\u001b[1;32m   2238\u001b[0m \u001b[0;34m\u001b[0m\u001b[0m\n\u001b[1;32m   2239\u001b[0m         \u001b[0;32mtry\u001b[0m\u001b[0;34m:\u001b[0m\u001b[0;34m\u001b[0m\u001b[0;34m\u001b[0m\u001b[0m\n\u001b[0;32m-> 2240\u001b[0;31m             \u001b[0msave_handler\u001b[0m\u001b[0;34m(\u001b[0m\u001b[0mself\u001b[0m\u001b[0;34m,\u001b[0m \u001b[0mfp\u001b[0m\u001b[0;34m,\u001b[0m \u001b[0mfilename\u001b[0m\u001b[0;34m)\u001b[0m\u001b[0;34m\u001b[0m\u001b[0;34m\u001b[0m\u001b[0m\n\u001b[0m\u001b[1;32m   2241\u001b[0m         \u001b[0;32mfinally\u001b[0m\u001b[0;34m:\u001b[0m\u001b[0;34m\u001b[0m\u001b[0;34m\u001b[0m\u001b[0m\n\u001b[1;32m   2242\u001b[0m             \u001b[0;31m# do what we can to clean up\u001b[0m\u001b[0;34m\u001b[0m\u001b[0;34m\u001b[0m\u001b[0m\n",
      "\u001b[0;32m/opt/anaconda3/lib/python3.9/site-packages/PIL/PngImagePlugin.py\u001b[0m in \u001b[0;36m_save\u001b[0;34m(im, fp, filename, chunk, save_all)\u001b[0m\n\u001b[1;32m   1346\u001b[0m         \u001b[0m_write_multiple_frames\u001b[0m\u001b[0;34m(\u001b[0m\u001b[0mim\u001b[0m\u001b[0;34m,\u001b[0m \u001b[0mfp\u001b[0m\u001b[0;34m,\u001b[0m \u001b[0mchunk\u001b[0m\u001b[0;34m,\u001b[0m \u001b[0mrawmode\u001b[0m\u001b[0;34m)\u001b[0m\u001b[0;34m\u001b[0m\u001b[0;34m\u001b[0m\u001b[0m\n\u001b[1;32m   1347\u001b[0m     \u001b[0;32melse\u001b[0m\u001b[0;34m:\u001b[0m\u001b[0;34m\u001b[0m\u001b[0;34m\u001b[0m\u001b[0m\n\u001b[0;32m-> 1348\u001b[0;31m         \u001b[0mImageFile\u001b[0m\u001b[0;34m.\u001b[0m\u001b[0m_save\u001b[0m\u001b[0;34m(\u001b[0m\u001b[0mim\u001b[0m\u001b[0;34m,\u001b[0m \u001b[0m_idat\u001b[0m\u001b[0;34m(\u001b[0m\u001b[0mfp\u001b[0m\u001b[0;34m,\u001b[0m \u001b[0mchunk\u001b[0m\u001b[0;34m)\u001b[0m\u001b[0;34m,\u001b[0m \u001b[0;34m[\u001b[0m\u001b[0;34m(\u001b[0m\u001b[0;34m\"zip\"\u001b[0m\u001b[0;34m,\u001b[0m \u001b[0;34m(\u001b[0m\u001b[0;36m0\u001b[0m\u001b[0;34m,\u001b[0m \u001b[0;36m0\u001b[0m\u001b[0;34m)\u001b[0m \u001b[0;34m+\u001b[0m \u001b[0mim\u001b[0m\u001b[0;34m.\u001b[0m\u001b[0msize\u001b[0m\u001b[0;34m,\u001b[0m \u001b[0;36m0\u001b[0m\u001b[0;34m,\u001b[0m \u001b[0mrawmode\u001b[0m\u001b[0;34m)\u001b[0m\u001b[0;34m]\u001b[0m\u001b[0;34m)\u001b[0m\u001b[0;34m\u001b[0m\u001b[0;34m\u001b[0m\u001b[0m\n\u001b[0m\u001b[1;32m   1349\u001b[0m \u001b[0;34m\u001b[0m\u001b[0m\n\u001b[1;32m   1350\u001b[0m     \u001b[0;32mif\u001b[0m \u001b[0minfo\u001b[0m\u001b[0;34m:\u001b[0m\u001b[0;34m\u001b[0m\u001b[0;34m\u001b[0m\u001b[0m\n",
      "\u001b[0;32m/opt/anaconda3/lib/python3.9/site-packages/PIL/ImageFile.py\u001b[0m in \u001b[0;36m_save\u001b[0;34m(im, fp, tile, bufsize)\u001b[0m\n\u001b[1;32m    516\u001b[0m             \u001b[0;32melse\u001b[0m\u001b[0;34m:\u001b[0m\u001b[0;34m\u001b[0m\u001b[0;34m\u001b[0m\u001b[0m\n\u001b[1;32m    517\u001b[0m                 \u001b[0;32mwhile\u001b[0m \u001b[0;32mTrue\u001b[0m\u001b[0;34m:\u001b[0m\u001b[0;34m\u001b[0m\u001b[0;34m\u001b[0m\u001b[0m\n\u001b[0;32m--> 518\u001b[0;31m                     \u001b[0ml\u001b[0m\u001b[0;34m,\u001b[0m \u001b[0ms\u001b[0m\u001b[0;34m,\u001b[0m \u001b[0md\u001b[0m \u001b[0;34m=\u001b[0m \u001b[0me\u001b[0m\u001b[0;34m.\u001b[0m\u001b[0mencode\u001b[0m\u001b[0;34m(\u001b[0m\u001b[0mbufsize\u001b[0m\u001b[0;34m)\u001b[0m\u001b[0;34m\u001b[0m\u001b[0;34m\u001b[0m\u001b[0m\n\u001b[0m\u001b[1;32m    519\u001b[0m                     \u001b[0mfp\u001b[0m\u001b[0;34m.\u001b[0m\u001b[0mwrite\u001b[0m\u001b[0;34m(\u001b[0m\u001b[0md\u001b[0m\u001b[0;34m)\u001b[0m\u001b[0;34m\u001b[0m\u001b[0;34m\u001b[0m\u001b[0m\n\u001b[1;32m    520\u001b[0m                     \u001b[0;32mif\u001b[0m \u001b[0ms\u001b[0m\u001b[0;34m:\u001b[0m\u001b[0;34m\u001b[0m\u001b[0;34m\u001b[0m\u001b[0m\n",
      "\u001b[0;31mKeyboardInterrupt\u001b[0m: "
     ]
    }
   ],
   "source": [
    "a_tt = np.array(a_tt)\n",
    "c_tt = np.array(c_tt)\n",
    "b_tt = np.array(b_tt)\n",
    "\n",
    "from IPython.display import clear_output\n",
    "from celluloid import Camera\n",
    "\n",
    "# Toggle from true to false if we wish to save a gif of the final resutls, otherwise the simulation results will be played\n",
    "# in real time.\n",
    "save_gif = False\n",
    "\n",
    "if save_gif:\n",
    "    fig, [[ax1,ax2], [ax3,ax4]]= plt.subplots(2,2, figsize = (8, 8))\n",
    "    camera = Camera(fig)\n",
    "\n",
    "step =2\n",
    "end = a_tt.shape[0]\n",
    "\n",
    "a_masses = []\n",
    "b_masses = []\n",
    "c_masses = []\n",
    "\n",
    "algae_region = []\n",
    "bacteria_region = []\n",
    "oxygen_region = []\n",
    "\n",
    "for i in np.arange(start = 0, stop = end, step= step):\n",
    "    \n",
    "    x_mesh = np.linspace(0,L,nx)\n",
    "    if not save_gif:\n",
    "        fig, [[ax1,ax2], [ax3,ax4]]= plt.subplots(2,2, figsize = (8, 8))\n",
    "        \n",
    "    #ax1.set_ylim(0,min( max(a_tt.max(),b_tt.max(),),100 ))#c_tt.max())) \n",
    "    ax1.set_ylim(0,3.0)\n",
    "    ax1.plot(x_mesh, a_tt[i], color = \"green\")\n",
    "    ax1.plot(x_mesh, c_tt[i], color = \"red\")\n",
    "    ax1.plot(x_mesh, b_tt[i], color = \"blue\")\n",
    "    ax1.fill_betweenx( np.linspace(0,4,100), lb, ub, facecolor='yellow', alpha=0.5, )\n",
    "\n",
    "\n",
    "    #ax1.plot(x_mesh, np.array(phi), color = \"gold\")\n",
    "    ax1.set_title(\"Dynamics\")\n",
    "    \n",
    "    region = (m.x > L/2 - L/wf ) & (m.x <L/2 + L/wf )\n",
    "    a_tt_sel = a_tt[i][ region ]\n",
    "    b_tt_sel = b_tt[i][ region ]\n",
    "    c_tt_sel = c_tt[i][ region ]\n",
    "    \n",
    "    ax3.set_ylim(0,max(a_tt.max(),b_tt.max(),))#c_tt.max())) \n",
    "    ax3.plot(a_tt_sel, color = \"green\")\n",
    "    ax3.plot(c_tt_sel, color = \"red\")\n",
    "    ax3.plot(b_tt_sel, color = \"blue\")\n",
    "    ax3.set_title(\"Dynamics in Lit Region\")\n",
    "        \n",
    "\n",
    "\n",
    "    \n",
    "    #ax1.fill_betweenx( np.linspace(0,11+1,100), L/2 - L/wf, L/2 + L/wf, facecolor='yellow', alpha=0.5, )\n",
    "    \n",
    "    region_mass = np.sum(a_tt_sel)\n",
    "    b_region_mass = np.sum(b_tt_sel)\n",
    "    c_region_mass = np.sum(c_tt_sel)\n",
    "    \n",
    "    algae_region.append(region_mass)\n",
    "    bacteria_region.append(b_region_mass)\n",
    "    oxygen_region.append(c_region_mass)\n",
    "        \n",
    "    a_masses.append(np.sum(a_tt[i]))\n",
    "    c_masses.append(np.sum(c_tt[i]))\n",
    "    b_masses.append(np.sum(b_tt[i]))\n",
    "    \n",
    "    # ax2.set_ylim(0,c_tt.max())\n",
    "    ax2.set_xlim(0,end/step)\n",
    "    ax2.plot( a_masses, color = \"green\")\n",
    "    ax2.plot( c_masses, color = \"red\")\n",
    "    ax2.plot( b_masses, color = \"blue\")\n",
    "    ax2.set_title(\"Masses\")\n",
    "    \n",
    "    ax4.set_xlim(0,end/step)\n",
    "    #ax4.set_ylim(0,max(oxygen_region)+10)\n",
    "    ax4.plot(algae_region, color = \"green\")\n",
    "    ax4.plot(bacteria_region, color = \"blue\")\n",
    "    #ax4.plot(oxygen_region, color = \"red\")\n",
    "    ax4.set_title(\"Mass in Lit Region\")\n",
    "\n",
    "    plt.show()\n",
    "    \n",
    "    if save_gif:\n",
    "        camera.snap()\n",
    "    else:\n",
    "        clear_output(wait = True)"
   ]
  },
  {
   "cell_type": "code",
   "execution_count": 11,
   "id": "f118fea6",
   "metadata": {},
   "outputs": [
    {
     "data": {
      "image/png": "[encoded data removed]",
      "text/plain": [
       "<Figure size 720x288 with 1 Axes>"
      ]
     },
     "metadata": {
      "needs_background": "light"
     },
     "output_type": "display_data"
    },
    {
     "data": {
      "image/png": "[encoded data removed]",
      "text/plain": [
       "<Figure size 720x288 with 1 Axes>"
      ]
     },
     "metadata": {
      "needs_background": "light"
     },
     "output_type": "display_data"
    },
    {
     "data": {
      "image/png": "[encoded data removed]",
      "text/plain": [
       "<Figure size 720x288 with 1 Axes>"
      ]
     },
     "metadata": {
      "needs_background": "light"
     },
     "output_type": "display_data"
    }
   ],
   "source": [
    "plt.figure(figsize = (10,4))\n",
    "plt.title(\"Algae\")\n",
    "plt.imshow(a_tt, interpolation = \"nearest\", aspect = \"auto\", cmap = \"Greens\")\n",
    "plt.show()\n",
    "\n",
    "plt.figure(figsize = (10,4))\n",
    "plt.title(\"Bacteria\")\n",
    "plt.imshow(b_tt, interpolation = \"nearest\", aspect = \"auto\", cmap = \"Blues\")\n",
    "plt.show()\n",
    "\n",
    "plt.figure(figsize = (10,4))\n",
    "plt.title(\"Oxygen\")\n",
    "plt.imshow(c_tt, interpolation = \"nearest\", aspect = \"auto\",cmap = \"Reds\")\n",
    "plt.show()"
   ]
  },
  {
   "cell_type": "markdown",
   "id": "a3136d57-09e5-44ec-9106-ca9623898be5",
   "metadata": {},
   "source": [
    "Run the below code to generate a video of the simulation: "
   ]
  },
  {
   "cell_type": "code",
   "execution_count": null,
   "id": "a78d487b",
   "metadata": {},
   "outputs": [],
   "source": [
    "# anim = camera.animate()\n",
    "\n",
    "# from IPython.display import HTML\n",
    "# animation = camera.animate()\n",
    "# HTML(animation.to_html5_video())"
   ]
  }
 ],
 "metadata": {
  "kernelspec": {
   "display_name": "Python 3 (ipykernel)",
   "language": "python",
   "name": "python3"
  },
  "language_info": {
   "codemirror_mode": {
    "name": "ipython",
    "version": 3
   },
   "file_extension": ".py",
   "mimetype": "text/x-python",
   "name": "python",
   "nbconvert_exporter": "python",
   "pygments_lexer": "ipython3",
   "version": "3.9.7"
  }
 },
 "nbformat": 4,
 "nbformat_minor": 5
}
