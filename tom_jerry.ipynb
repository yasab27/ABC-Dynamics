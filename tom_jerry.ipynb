{
 "cells": [
  {
   "cell_type": "markdown",
   "id": "4ff836b8",
   "metadata": {},
   "source": [
    "# Tom and Jerry Dynamics\n",
    "\n",
    "In this notebook, we study the impact of a velocity drift term on the diffusion of individual algal as induced by both collision and velocity affects of momentum transfer to the algae. This ends up generating a system where the bacteria chase oxygen which causes the expulsion of algae which produce oxygen so overall we get a bit of a chase! Whether this will hold up to experiments is yet to be seen but it's exciting to explore."
   ]
  },
  {
   "cell_type": "code",
   "execution_count": 1,
   "id": "896d4655",
   "metadata": {},
   "outputs": [],
   "source": [
    "import numpy as np\n",
    "from scipy.integrate import odeint, solve_ivp\n",
    "import matplotlib.pyplot as plt "
   ]
  },
  {
   "cell_type": "code",
   "execution_count": 2,
   "id": "d6d13254",
   "metadata": {},
   "outputs": [],
   "source": [
    "import scienceplots\n",
    "plt.style.use(['science','no-latex'])"
   ]
  },
  {
   "cell_type": "code",
   "execution_count": 3,
   "id": "2f9b304b",
   "metadata": {},
   "outputs": [],
   "source": [
    "from fipy import Variable, FaceVariable, CellVariable, Grid1D, TransientTerm, DiffusionTerm, UpwindConvectionTerm, \\\n",
    "ImplicitSourceTerm,ExplicitDiffusionTerm\n",
    "\n",
    "from fipy.tools import numerix"
   ]
  },
  {
   "cell_type": "markdown",
   "id": "f130a7b5",
   "metadata": {},
   "source": [
    "To review the model we are assuming that the oxygen dynamics are purely controlled by diffusion and consumption/production kinetics:\n",
    "\n",
    "$$\n",
    "\\dfrac{\\partial c}{\\partial t} = D_c \\nabla^2 c + k^+ a - k(c)^- b\n",
    "$$\n",
    "\n",
    "The oxygen consumption kinetics in this regime are given by Michealis Menton kinetics:\n",
    "\n",
    "$$\n",
    "k^-(c) = \\dfrac{k^-  c}{ K_c + c}\n",
    "$$\n",
    "\n",
    "For now we'll just use the approximation that oxygen consumption is unsaturated so this becomes the form:\n",
    "\n",
    "$$\n",
    "\\dfrac{\\partial c}{\\partial t} = D_c \\nabla^2 c + k^+ a - k^- b c\n",
    "$$\n",
    "\n",
    "For bacteria, we model this using standard Keller Segel dynamics:\n",
    "\n",
    "$$\n",
    "\\dfrac{ \\partial b}{\\partial t} = D_b \\nabla^2 b + \\nabla( \\chi b \\nabla c)\n",
    "$$\n",
    "\n",
    "For the algae, we need to be a bit careful. We made the fundamental assumption that the diffusion rate of algae is dictated by the relative concentration of the individual bacteria, which we assume (as implied by experimental evidence) is given by a linear relationship:\n",
    "\n",
    "$$\n",
    "D(x) = \\beta b(x)\n",
    "$$\n",
    "\n",
    "Where $\\beta$ is a phenomenological constant. From this we need to generalize Fick's law as:\n",
    "\n",
    "$$\n",
    "J(x) = -\\nabla( D(x) b(x) )\n",
    "$$\n",
    "\n",
    "Which holds in the regime that the velocity and collision rates are both affected by the bacterial concentration. This gives us a formulation:\n",
    "\n",
    "$$\n",
    "\\dfrac{\\partial a}{\\partial t} = \\nabla \\left( \\, \\nabla( D(x) b(x) \\,) \\right)\n",
    "$$\n",
    "\n",
    "Which when expanded gives a Keller-Segel form:\n",
    "\n",
    "$$\n",
    "\\dfrac{\\partial a}{\\partial t} = (\\beta b) \\nabla^2 \\, a(x) + \\beta \\nabla( a \\nabla b )\n",
    "$$\n",
    "\n",
    "More generally due to volume exclusion among other effects we anticipate: \n",
    "\n",
    "$$\n",
    "\\dfrac{\\partial a}{\\partial t} = (\\beta b) \\nabla^2 \\, a(x) + \\gamma \\nabla( a \\nabla b )\n",
    "$$\n",
    "\n"
   ]
  },
  {
   "cell_type": "markdown",
   "id": "cd35c67d",
   "metadata": {},
   "source": [
    "We will begin our simulation by defining initial conditions and a grid for numerics, leveraging simple finite volume method provided by FiPy. "
   ]
  },
  {
   "cell_type": "code",
   "execution_count": 4,
   "id": "dfd300c4",
   "metadata": {},
   "outputs": [
    {
     "name": "stdout",
     "output_type": "stream",
     "text": [
      "SIMULATION PARAMETERS:\n",
      "dx size:  0.01\n",
      "Diffusion CFL: 5e-05\n",
      "Time step: 0.01\n",
      "Integration Time: 10.0\n",
      "Number Iterations: 1000\n"
     ]
    }
   ],
   "source": [
    "# Number of cells\n",
    "L = 1\n",
    "nx = 100\n",
    "\n",
    "# Length of domain unit\n",
    "dx = L/nx\n",
    "\n",
    "# Construct mesh. \n",
    "m = Grid1D(nx=nx, dx=dx)\n",
    "\n",
    "\n",
    "# Define the time step\n",
    "T = 10\n",
    "D = 1\n",
    "\n",
    "# Compute the time step duration using the CFL criterion, also compute the CFL criterion to get a sense of scale for the system. \n",
    "timeStepDuration = 0.01\n",
    "steps = int(T/timeStepDuration)\n",
    "\n",
    "print(\"SIMULATION PARAMETERS:\")\n",
    "print(\"dx size: \", dx)\n",
    "print(\"Diffusion CFL:\", dx**2 / (2 * D))\n",
    "print(\"Time step:\", timeStepDuration)\n",
    "print(\"Integration Time:\", timeStepDuration*steps)\n",
    "print(\"Number Iterations:\", steps)"
   ]
  },
  {
   "cell_type": "markdown",
   "id": "324e2a52",
   "metadata": {},
   "source": [
    "Let's now define the initial conditions for the system, we will for now assume the system is homogeneously illuminated everywhere and the system starts with a homogeneous bacteria concentration with a single spot of algae in the center of the system. *Note there is **no** spatially heterogeneous light distribution.*"
   ]
  },
  {
   "cell_type": "code",
   "execution_count": 5,
   "id": "d59c758b",
   "metadata": {},
   "outputs": [
    {
     "data": {
      "image/png": "[encoded data removed]",
      "text/plain": [
       "<Figure size 360x360 with 1 Axes>"
      ]
     },
     "metadata": {
      "needs_background": "light"
     },
     "output_type": "display_data"
    }
   ],
   "source": [
    "c = CellVariable(name=\"oxygen\",mesh=m,value= 0.0)\n",
    "a = CellVariable(name =\"algae\", mesh = m, value = 1.0)\n",
    "b = CellVariable(name = \"bacteria\", mesh = m, value = 1.5)\n",
    "\n",
    "\n",
    "# Generate an initial Gaussian profile for the algae. \n",
    "wf = 5\n",
    "\n",
    "mu = L/2\n",
    "sigma = L/15\n",
    "mask = 2.0*np.exp(-(m.x-mu)**2/sigma**2)\n",
    "a[(m.x > L/2 - L/(2*wf)) & (m.x < L/2 + L/(2*wf))] = 1.0\n",
    "a.setValue(mask + 0.5) #mask + 0.05*np.random.randn(nx) + 0.2\n",
    "    \n",
    "# Plot the initial profiles \n",
    "\n",
    "plt.figure(figsize = (5,5))\n",
    "plt.title(\"Initial Profiles\")\n",
    "plt.ylim(0,3.0)\n",
    "plt.plot(m.x.value, np.array(a), color = \"green\", label = \"Algae\", lw = 2)\n",
    "plt.plot(m.x.value, np.array(c), color = \"red\", label = \"Oxygen\" , lw = 2)\n",
    "plt.plot(m.x.value, np.array(b), color = \"blue\", label = \"Bacteria\" , lw =2 )\n",
    "plt.legend()\n",
    "plt.show()"
   ]
  },
  {
   "cell_type": "markdown",
   "id": "f170e51e",
   "metadata": {},
   "source": [
    "### Defining Equations\n",
    "\n",
    "We will now set the equations for our system, fixing parameters here just for convenience. \n",
    "\n",
    "$$\n",
    "\\begin{aligned}\n",
    "& \\frac{\\partial c}{\\partial t}=D_c \\nabla^2 c+k^{+}(\\phi) a-k^{-} b c \\\\\n",
    "& \\frac{\\partial b}{\\partial t}=D_b \\nabla^2 b-r \\nabla(b \\nabla c) \\\\\n",
    "& \\frac{\\partial a}{\\partial t}=(\\beta b) \\nabla^2 a+\\gamma \\nabla(a \\nabla b)\n",
    "\\end{aligned}\n",
    "$$\n",
    "\n",
    "Estimating $\\beta$ from experimental data will be challenging, but here we'll just assume when $b = 1$, the diffusion constant will be $D_a = \\beta(1) = 0.1$. We can rescale this as needed based on experiments. "
   ]
  },
  {
   "cell_type": "code",
   "execution_count": 6,
   "id": "e57e9cbc",
   "metadata": {},
   "outputs": [],
   "source": [
    "# Define the diffusion constants\n",
    "D_c = 1\n",
    "D_b = 0.1 \n",
    "beta = 0.1 \n",
    "\n",
    "# Define the kinetic parameters\n",
    "k_plus = 1.0\n",
    "k_minus = 0.01\n",
    "\n",
    "# Define the advective parameters\n",
    "r = 2.0\n",
    "gamma = 2.0"
   ]
  },
  {
   "cell_type": "markdown",
   "id": "e0c9a5d3",
   "metadata": {},
   "source": [
    "Now define the actual equations:"
   ]
  },
  {
   "cell_type": "code",
   "execution_count": 7,
   "id": "c65c7445",
   "metadata": {},
   "outputs": [],
   "source": [
    "# Oxygen term\n",
    "eqX = TransientTerm(var = c) == DiffusionTerm(coeff= D_c, var = c) + ImplicitSourceTerm(var = a, coeff = k_plus) \\\n",
    "    - ImplicitSourceTerm(coeff = k_minus*c, var = b)\n",
    "\n",
    "# Bacteria term\n",
    "taxis_coeff = r*c.grad\n",
    "eqZ = TransientTerm(var = b) == DiffusionTerm(coeff = D_b, var = b)  - UpwindConvectionTerm(coeff=taxis_coeff, var = b)\n",
    "\n",
    "# Algae term\n",
    "D_ani = beta*b\n",
    "dispersal_coeff = gamma*b.grad\n",
    "eqY = TransientTerm(var = a) == DiffusionTerm(coeff = D_ani, var = a) + UpwindConvectionTerm(coeff = dispersal_coeff, var = a)\n",
    "\n",
    "# Combine into a single equation\n",
    "eqN = eqX & eqY & eqZ"
   ]
  },
  {
   "cell_type": "markdown",
   "id": "af436133",
   "metadata": {},
   "source": [
    "We now simulate our system:"
   ]
  },
  {
   "cell_type": "code",
   "execution_count": 8,
   "id": "79896f12",
   "metadata": {},
   "outputs": [
    {
     "name": "stderr",
     "output_type": "stream",
     "text": [
      "100%|██████████| 1000/1000 [00:26<00:00, 37.59it/s]\n"
     ]
    }
   ],
   "source": [
    "from tqdm import trange, tqdm\n",
    "\n",
    "from builtins import range\n",
    "\n",
    "# Create arrays to store the transients dynamics for algae, bacteria, and oxygen. \n",
    "a_tt = []\n",
    "b_tt = []\n",
    "c_tt = []\n",
    "\n",
    "t = 0.0\n",
    "for step in trange((steps)):\n",
    "    t += timeStepDuration\n",
    "    t = np.around(t,1)\n",
    "    eqN.solve(dt=timeStepDuration)\n",
    "    \n",
    "    # Save the simulation values only every 10 time steps. \n",
    "    if t % 10.0 == 0.0:\n",
    "        a_tt.append(a.value.copy())\n",
    "        b_tt.append(b.value.copy())\n",
    "        c_tt.append(c.value.copy())"
   ]
  },
  {
   "cell_type": "markdown",
   "id": "d3a25869",
   "metadata": {},
   "source": [
    "### Plotting the Simulation\n",
    "\n",
    "We analyze the results by plotting a video of the solution. The code below just carefully generates a lot of subplots visualizing different aspects of the system dynamics and plots them all in one large video, the specifics of how it worse are both uninteresting and verbose: "
   ]
  },
  {
   "cell_type": "code",
   "execution_count": 10,
   "id": "25a3908b",
   "metadata": {},
   "outputs": [
    {
     "data": {
      "image/png": "[encoded data removed]",
      "text/plain": [
       "<Figure size 576x576 with 4 Axes>"
      ]
     },
     "metadata": {
      "needs_background": "light"
     },
     "output_type": "display_data"
    }
   ],
   "source": [
    "a_tt = np.array(a_tt)\n",
    "c_tt = np.array(c_tt)\n",
    "b_tt = np.array(b_tt)\n",
    "\n",
    "from IPython.display import clear_output\n",
    "from celluloid import Camera\n",
    "\n",
    "# Toggle from true to false if we wish to save a gif of the final resutls, otherwise the simulation results will be played\n",
    "# in real time.\n",
    "save_gif = False\n",
    "\n",
    "if save_gif:\n",
    "    fig, [[ax1,ax2], [ax3,ax4]]= plt.subplots(2,2, figsize = (8, 8))\n",
    "    camera = Camera(fig)\n",
    "\n",
    "step =2\n",
    "end = a_tt.shape[0]\n",
    "\n",
    "a_masses = []\n",
    "b_masses = []\n",
    "c_masses = []\n",
    "\n",
    "algae_region = []\n",
    "bacteria_region = []\n",
    "oxygen_region = []\n",
    "\n",
    "for i in np.arange(start = 0, stop = end, step= step):\n",
    "    \n",
    "    x_mesh = np.linspace(0,L,nx)\n",
    "    if not save_gif:\n",
    "        fig, [[ax1,ax2], [ax3,ax4]]= plt.subplots(2,2, figsize = (8, 8))\n",
    "        \n",
    "    #ax1.set_ylim(0,min( max(a_tt.max(),b_tt.max(),),100 ))#c_tt.max())) \n",
    "    ax1.set_ylim(0,3.0)\n",
    "    ax1.plot(x_mesh, a_tt[i], color = \"green\")\n",
    "    ax1.plot(x_mesh, c_tt[i], color = \"red\")\n",
    "    ax1.plot(x_mesh, b_tt[i], color = \"blue\")\n",
    "    #ax1.plot(x_mesh, np.array(phi), color = \"gold\")\n",
    "    ax1.set_title(\"Dynamics\")\n",
    "    \n",
    "    region = (m.x > L/2 - L/wf ) & (m.x <L/2 + L/wf )\n",
    "    a_tt_sel = a_tt[i][ region ]\n",
    "    b_tt_sel = b_tt[i][ region ]\n",
    "    c_tt_sel = c_tt[i][ region ]\n",
    "    \n",
    "    ax3.set_ylim(0,max(a_tt.max(),b_tt.max(),))#c_tt.max())) \n",
    "    ax3.plot(a_tt_sel, color = \"green\")\n",
    "    ax3.plot(c_tt_sel, color = \"red\")\n",
    "    ax3.plot(b_tt_sel, color = \"blue\")\n",
    "    ax3.set_title(\"Dynamics in Center\")\n",
    "    \n",
    "    #ax1.fill_betweenx( np.linspace(0,11+1,100), L/2 - L/wf, L/2 + L/wf, facecolor='yellow', alpha=0.5, )\n",
    "    \n",
    "    region_mass = np.sum(a_tt_sel)\n",
    "    b_region_mass = np.sum(b_tt_sel)\n",
    "    c_region_mass = np.sum(c_tt_sel)\n",
    "    \n",
    "    algae_region.append(region_mass)\n",
    "    bacteria_region.append(b_region_mass)\n",
    "    oxygen_region.append(c_region_mass)\n",
    "        \n",
    "    a_masses.append(np.sum(a_tt[i]))\n",
    "    c_masses.append(np.sum(c_tt[i]))\n",
    "    b_masses.append(np.sum(b_tt[i]))\n",
    "    \n",
    "    # ax2.set_ylim(0,c_tt.max())\n",
    "    ax2.set_xlim(0,end/step)\n",
    "    ax2.plot( a_masses, color = \"green\")\n",
    "    ax2.plot( c_masses, color = \"red\")\n",
    "    ax2.plot( b_masses, color = \"blue\")\n",
    "    ax2.set_title(\"Masses\")\n",
    "    \n",
    "    ax4.set_xlim(0,end/step)\n",
    "    #ax4.set_ylim(0,max(oxygen_region)+10)\n",
    "    ax4.plot(algae_region, color = \"green\")\n",
    "    ax4.plot(bacteria_region, color = \"blue\")\n",
    "    #ax4.plot(oxygen_region, color = \"red\")\n",
    "    ax4.set_title(\"Mass in Center Region\")\n",
    "\n",
    "    plt.show()\n",
    "    \n",
    "    if save_gif:\n",
    "        camera.snap()\n",
    "    else:\n",
    "        clear_output(wait = True)"
   ]
  },
  {
   "cell_type": "code",
   "execution_count": null,
   "id": "f118fea6",
   "metadata": {},
   "outputs": [],
   "source": [
    "plt.figure(figsize = (10,4))\n",
    "plt.title(\"Algae\")\n",
    "plt.imshow(a_tt, interpolation = \"nearest\", aspect = \"auto\", cmap = \"Greens\")\n",
    "plt.show()\n",
    "\n",
    "plt.figure(figsize = (10,4))\n",
    "plt.title(\"Bacteria\")\n",
    "plt.imshow(b_tt, interpolation = \"nearest\", aspect = \"auto\", cmap = \"Blues\")\n",
    "plt.show()\n",
    "\n",
    "plt.figure(figsize = (10,4))\n",
    "plt.title(\"Oxygen\")\n",
    "plt.imshow(c_tt, interpolation = \"nearest\", aspect = \"auto\",cmap = \"Reds\")\n",
    "plt.show()"
   ]
  },
  {
   "cell_type": "markdown",
   "id": "a3136d57-09e5-44ec-9106-ca9623898be5",
   "metadata": {},
   "source": [
    "Run the below code to generate a video of the simulation: "
   ]
  },
  {
   "cell_type": "code",
   "execution_count": null,
   "id": "a78d487b",
   "metadata": {},
   "outputs": [],
   "source": [
    "# anim = camera.animate()\n",
    "\n",
    "# from IPython.display import HTML\n",
    "# animation = camera.animate()\n",
    "# HTML(animation.to_html5_video())"
   ]
  }
 ],
 "metadata": {
  "kernelspec": {
   "display_name": "Python 3 (ipykernel)",
   "language": "python",
   "name": "python3"
  },
  "language_info": {
   "codemirror_mode": {
    "name": "ipython",
    "version": 3
   },
   "file_extension": ".py",
   "mimetype": "text/x-python",
   "name": "python",
   "nbconvert_exporter": "python",
   "pygments_lexer": "ipython3",
   "version": "3.9.7"
  }
 },
 "nbformat": 4,
 "nbformat_minor": 5
}
